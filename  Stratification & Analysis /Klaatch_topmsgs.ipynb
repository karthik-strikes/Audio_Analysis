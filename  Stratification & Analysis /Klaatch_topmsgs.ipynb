{
 "cells": [
  {
   "cell_type": "code",
   "execution_count": null,
   "metadata": {},
   "outputs": [],
   "source": [
    "import pandas as pd\n",
    "import json\n",
    "\n",
    "import pandas as pd\n",
    "import sqlalchemy\n",
    "from sqlalchemy import create_engine, text\n",
    "\n",
    "db = sqlalchemy.engine.url.URL(drivername='mysql',\n",
    "                            host='***********',\n",
    "                            database='Audio_features',\n",
    "                            username = \"************\", password = \"************\", port=None,\n",
    "                            query={'read_default_file': '~/.my.cnf', 'charset':'utf8mb4'})\n",
    "engine = sqlalchemy.create_engine(db)"
   ]
  },
  {
   "cell_type": "code",
   "execution_count": 2,
   "metadata": {},
   "outputs": [],
   "source": [
    "table = 'feat$cat_ZClaatch_100_cp_w$merged_data$message_id$1gra'\n",
    "msg_table = 'merged_data'"
   ]
  },
  {
   "cell_type": "code",
   "execution_count": 3,
   "metadata": {},
   "outputs": [],
   "source": [
    "# read tables\n",
    "tbl = pd.read_sql_table(table, engine)\n",
    "msg_tbl = pd.read_sql_table(msg_table, engine)\n",
    "msg_tbl = msg_tbl[['message_id', 'message', 'KlaatchID_x', 'Date_x' , 'CEL_Total', 'CELVAL1', 'CELVAL2', 'CELVAL3']]"
   ]
  },
  {
   "cell_type": "code",
   "execution_count": 4,
   "metadata": {},
   "outputs": [],
   "source": [
    "top_10_words_by_topic = pd.read_csv('/home/karthik9/karthik_klutch/50TOPICS.csv')"
   ]
  },
  {
   "cell_type": "code",
   "execution_count": 5,
   "metadata": {},
   "outputs": [],
   "source": [
    "# drop row where feat == '_intercept'\n",
    "tbl = tbl[tbl['feat'] != '_intercept']\n",
    "# convert feat to int\n",
    "tbl['feat'] = tbl['feat'].astype(int)\n",
    "\n",
    "tbl = tbl.rename(columns={'feat': 'category'})\n"
   ]
  },
  {
   "cell_type": "code",
   "execution_count": 6,
   "metadata": {},
   "outputs": [],
   "source": [
    "tbl = tbl.merge(msg_tbl, left_on='group_id', right_on='message_id', how='left')"
   ]
  },
  {
   "cell_type": "code",
   "execution_count": 7,
   "metadata": {},
   "outputs": [],
   "source": [
    "# subset tbl to where message > 5 words\n",
    "tbl_5_words = tbl[tbl['message'].str.split().str.len() > 5]"
   ]
  },
  {
   "cell_type": "code",
   "execution_count": 8,
   "metadata": {},
   "outputs": [],
   "source": [
    "top_10_msgs = tbl.groupby('category').apply(lambda x: x.nlargest(10, 'group_norm')).reset_index(drop=True)\n"
   ]
  },
  {
   "cell_type": "code",
   "execution_count": 9,
   "metadata": {},
   "outputs": [
    {
     "data": {
      "text/html": [
       "<div>\n",
       "<style scoped>\n",
       "    .dataframe tbody tr th:only-of-type {\n",
       "        vertical-align: middle;\n",
       "    }\n",
       "\n",
       "    .dataframe tbody tr th {\n",
       "        vertical-align: top;\n",
       "    }\n",
       "\n",
       "    .dataframe thead th {\n",
       "        text-align: right;\n",
       "    }\n",
       "</style>\n",
       "<table border=\"1\" class=\"dataframe\">\n",
       "  <thead>\n",
       "    <tr style=\"text-align: right;\">\n",
       "      <th></th>\n",
       "      <th>category</th>\n",
       "      <th>message_id</th>\n",
       "      <th>message</th>\n",
       "      <th>top_10_words</th>\n",
       "    </tr>\n",
       "  </thead>\n",
       "  <tbody>\n",
       "    <tr>\n",
       "      <th>0</th>\n",
       "      <td>0</td>\n",
       "      <td>774_2023-07-25</td>\n",
       "      <td>Hello? Yes. Oh, hi, Karen. How are you doing? ...</td>\n",
       "      <td>group, meeting, fun, groups, exactly, pizza, s...</td>\n",
       "    </tr>\n",
       "    <tr>\n",
       "      <th>1</th>\n",
       "      <td>0</td>\n",
       "      <td>763_2023-07-31</td>\n",
       "      <td>Hello. Good. How are you? Yes, I am. The. So f...</td>\n",
       "      <td>group, meeting, fun, groups, exactly, pizza, s...</td>\n",
       "    </tr>\n",
       "    <tr>\n",
       "      <th>2</th>\n",
       "      <td>0</td>\n",
       "      <td>774_2024-03-22</td>\n",
       "      <td>ello is. Oh. Hi, Karen. How are you doing? Oh,...</td>\n",
       "      <td>group, meeting, fun, groups, exactly, pizza, s...</td>\n",
       "    </tr>\n",
       "    <tr>\n",
       "      <th>3</th>\n",
       "      <td>0</td>\n",
       "      <td>774_2023-03-09</td>\n",
       "      <td>[00:00:06] Reports claim to show that the FTC ...</td>\n",
       "      <td>group, meeting, fun, groups, exactly, pizza, s...</td>\n",
       "    </tr>\n",
       "    <tr>\n",
       "      <th>4</th>\n",
       "      <td>0</td>\n",
       "      <td>774_2022-12-08</td>\n",
       "      <td>Hello? Hey, Michelle. Good, Good. How are you ...</td>\n",
       "      <td>group, meeting, fun, groups, exactly, pizza, s...</td>\n",
       "    </tr>\n",
       "    <tr>\n",
       "      <th>...</th>\n",
       "      <td>...</td>\n",
       "      <td>...</td>\n",
       "      <td>...</td>\n",
       "      <td>...</td>\n",
       "    </tr>\n",
       "    <tr>\n",
       "      <th>995</th>\n",
       "      <td>99</td>\n",
       "      <td>634_2023-05-31</td>\n",
       "      <td>Hello. Huh? Okay. Okay. Keep leaving messages ...</td>\n",
       "      <td>kind, also, own, actually, pretty, towers, mus...</td>\n",
       "    </tr>\n",
       "    <tr>\n",
       "      <th>996</th>\n",
       "      <td>99</td>\n",
       "      <td>634_2021-05-24</td>\n",
       "      <td>Hello. I can't. Oh, here, let me put it on spe...</td>\n",
       "      <td>kind, also, own, actually, pretty, towers, mus...</td>\n",
       "    </tr>\n",
       "    <tr>\n",
       "      <th>997</th>\n",
       "      <td>99</td>\n",
       "      <td>634_2022-10-10</td>\n",
       "      <td>Hello? Yes. Oh, hey, Ken. Okay. No, Sure. Let ...</td>\n",
       "      <td>kind, also, own, actually, pretty, towers, mus...</td>\n",
       "    </tr>\n",
       "    <tr>\n",
       "      <th>998</th>\n",
       "      <td>99</td>\n",
       "      <td>634_2024-03-18</td>\n",
       "      <td>ello. Okay. Good. Um. Yeah, sure. That's good....</td>\n",
       "      <td>kind, also, own, actually, pretty, towers, mus...</td>\n",
       "    </tr>\n",
       "    <tr>\n",
       "      <th>999</th>\n",
       "      <td>99</td>\n",
       "      <td>562_2023-03-13</td>\n",
       "      <td>[00:00:00] Oh. Yes. It's iron. But it's not a ...</td>\n",
       "      <td>kind, also, own, actually, pretty, towers, mus...</td>\n",
       "    </tr>\n",
       "  </tbody>\n",
       "</table>\n",
       "<p>1000 rows × 4 columns</p>\n",
       "</div>"
      ],
      "text/plain": [
       "     category      message_id  \\\n",
       "0           0  774_2023-07-25   \n",
       "1           0  763_2023-07-31   \n",
       "2           0  774_2024-03-22   \n",
       "3           0  774_2023-03-09   \n",
       "4           0  774_2022-12-08   \n",
       "..        ...             ...   \n",
       "995        99  634_2023-05-31   \n",
       "996        99  634_2021-05-24   \n",
       "997        99  634_2022-10-10   \n",
       "998        99  634_2024-03-18   \n",
       "999        99  562_2023-03-13   \n",
       "\n",
       "                                               message  \\\n",
       "0    Hello? Yes. Oh, hi, Karen. How are you doing? ...   \n",
       "1    Hello. Good. How are you? Yes, I am. The. So f...   \n",
       "2    ello is. Oh. Hi, Karen. How are you doing? Oh,...   \n",
       "3    [00:00:06] Reports claim to show that the FTC ...   \n",
       "4    Hello? Hey, Michelle. Good, Good. How are you ...   \n",
       "..                                                 ...   \n",
       "995  Hello. Huh? Okay. Okay. Keep leaving messages ...   \n",
       "996  Hello. I can't. Oh, here, let me put it on spe...   \n",
       "997  Hello? Yes. Oh, hey, Ken. Okay. No, Sure. Let ...   \n",
       "998  ello. Okay. Good. Um. Yeah, sure. That's good....   \n",
       "999  [00:00:00] Oh. Yes. It's iron. But it's not a ...   \n",
       "\n",
       "                                          top_10_words  \n",
       "0    group, meeting, fun, groups, exactly, pizza, s...  \n",
       "1    group, meeting, fun, groups, exactly, pizza, s...  \n",
       "2    group, meeting, fun, groups, exactly, pizza, s...  \n",
       "3    group, meeting, fun, groups, exactly, pizza, s...  \n",
       "4    group, meeting, fun, groups, exactly, pizza, s...  \n",
       "..                                                 ...  \n",
       "995  kind, also, own, actually, pretty, towers, mus...  \n",
       "996  kind, also, own, actually, pretty, towers, mus...  \n",
       "997  kind, also, own, actually, pretty, towers, mus...  \n",
       "998  kind, also, own, actually, pretty, towers, mus...  \n",
       "999  kind, also, own, actually, pretty, towers, mus...  \n",
       "\n",
       "[1000 rows x 4 columns]"
      ]
     },
     "execution_count": 9,
     "metadata": {},
     "output_type": "execute_result"
    }
   ],
   "source": [
    "# merge top 3 msgs with top 10 words\n",
    "top_10_msgs = top_10_msgs.merge(top_10_words_by_topic, on='category', how='left')\n",
    "K=top_10_msgs[['category', 'message_id', 'message','top_10_words']]\n",
    "K"
   ]
  },
  {
   "cell_type": "code",
   "execution_count": 10,
   "metadata": {},
   "outputs": [
    {
     "name": "stdout",
     "output_type": "stream",
     "text": [
      "CSV file 'top_10_messages.csv' has been created.\n"
     ]
    }
   ],
   "source": [
    "# Resolve column conflict\n",
    "if 'top_10_words' in top_10_msgs.columns:\n",
    "    top_10_msgs = top_10_msgs.drop(columns=['top_10_words'])\n",
    "\n",
    "# Merge without conflicts\n",
    "top_10_msgs = top_10_msgs.merge(top_10_words_by_topic, on='category', how='left')\n",
    "\n",
    "# Select desired columns\n",
    "result = top_10_msgs[['category', 'message_id', 'message', 'top_10_words']]\n",
    "\n",
    "# Save to CSV\n",
    "result.to_csv('z100.csv', index=False)\n",
    "\n",
    "print(\"CSV file 'top_10_messages.csv' has been created.\")\n"
   ]
  },
  {
   "cell_type": "code",
   "execution_count": null,
   "metadata": {},
   "outputs": [],
   "source": [
    "!python /home/karthik9/TheDlatk/dlatk/dlatkInterface.py -d Audio_features -t merged_data -c message_id \\\n",
    "-f  'feat$cat_Klaatch_lda_100_cp_w$merged_data$message_id$1gra'  \\\n",
    "    --outcome_table merged_data  --group_freq_thresh 10 \\\n",
    "    --outcomes CEL_Total CELVAL1 CELVAL2 CELVAL3 \\\n",
    "    --nfold_test_regression --model ridgehighcv --fold_column fold"
   ]
  }
 ],
 "metadata": {
  "kernelspec": {
   "display_name": "Python 3",
   "language": "python",
   "name": "python3"
  },
  "language_info": {
   "codemirror_mode": {
    "name": "ipython",
    "version": 3
   },
   "file_extension": ".py",
   "mimetype": "text/x-python",
   "name": "python",
   "nbconvert_exporter": "python",
   "pygments_lexer": "ipython3",
   "version": "3.8.19"
  }
 },
 "nbformat": 4,
 "nbformat_minor": 2
}
